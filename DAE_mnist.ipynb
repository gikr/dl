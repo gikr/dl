{
 "cells": [
  {
   "cell_type": "markdown",
   "metadata": {},
   "source": [
    "autoencoders \n",
    "\n",
    "Because the model is forced to prioritize\n",
    "which aspects of the input should be copied, it often learns useful properties of the\n",
    "data.\n",
    "\n",
    "there are 26 000 of data. \n",
    "we should train NN to clean noise from data: \n",
    "\n",
    "there are 20 000 clean training set, 2000 clean validation set, 2000 noisy validation set, \n",
    "\n",
    "2000 noisy test set to clean \n",
    "\n",
    "why we are given so many clean set without noised version?"
   ]
  },
  {
   "cell_type": "code",
   "execution_count": 1,
   "metadata": {},
   "outputs": [
    {
     "name": "stderr",
     "output_type": "stream",
     "text": [
      "/home/gaini/anaconda3/lib/python3.6/site-packages/h5py/__init__.py:36: FutureWarning: Conversion of the second argument of issubdtype from `float` to `np.floating` is deprecated. In future, it will be treated as `np.float64 == np.dtype(float).type`.\n",
      "  from ._conv import register_converters as _register_converters\n",
      "Using TensorFlow backend.\n"
     ]
    },
    {
     "name": "stdout",
     "output_type": "stream",
     "text": [
      "(20000, 1, 28, 28) float32\n",
      "(2000, 1, 28, 28) float32\n",
      "(2000, 1, 28, 28) float32\n",
      "(2000, 1, 28, 28) float32\n"
     ]
    }
   ],
   "source": [
    "import numpy as np\n",
    "import matplotlib.pyplot as plt\n",
    "import keras, keras.layers as L\n",
    "with np.load('denoising-challenge-01-data.npz') as fh:\n",
    "    training_images_clean = fh['training_images_clean']\n",
    "    validation_images_noisy = fh['validation_images_noisy']\n",
    "    validation_images_clean = fh['validation_images_clean']\n",
    "    test_images_noisy = fh['test_images_noisy']\n",
    "\n",
    "# TRAINING DATA: CLEAN\n",
    "# 1. INDEX: IMAGE SERIAL NUMBER (20000)\n",
    "# 2. INDEX: COLOR CHANNEL (1)\n",
    "# 3/4. INDEX: PIXEL VALUE (28 x 28)\n",
    "print(training_images_clean.shape, training_images_clean.dtype)\n",
    "\n",
    "# VALIDATION DATA: CLEAN + NOISY\n",
    "print(validation_images_clean.shape, validation_images_clean.dtype)\n",
    "print(validation_images_noisy.shape, validation_images_noisy.dtype)\n",
    "\n",
    "# TEST DATA: NOISY\n",
    "print(test_images_noisy.shape, test_images_noisy.dtype)"
   ]
  },
  {
   "cell_type": "code",
   "execution_count": 2,
   "metadata": {},
   "outputs": [
    {
     "name": "stdout",
     "output_type": "stream",
     "text": [
      "[1, 28, 28]\n"
     ]
    }
   ],
   "source": [
    "img_shape = [1,28,28]\n",
    "print(img_shape)"
   ]
  },
  {
   "cell_type": "code",
   "execution_count": 3,
   "metadata": {},
   "outputs": [],
   "source": [
    "def build_deep_autoencoder(img_shape,code_size=32):\n",
    "    \"\"\"PCA's deeper brother. See instructions above\"\"\"\n",
    "    C, H,W = img_shape\n",
    "    \n",
    "    encoder = keras.models.Sequential()\n",
    "    encoder.add(L.InputLayer(img_shape))\n",
    "\n",
    "    encoder.add(L.Flatten())\n",
    "    encoder.add(L.Dense(code_size*8, activation='relu'))\n",
    "    encoder.add(L.Dense(code_size*4, activation='tanh'))\n",
    "    encoder.add(L.Dense(code_size*2, activation='tanh'))\n",
    "    encoder.add(L.Dense(code_size))\n",
    "\n",
    "\n",
    "    decoder = keras.models.Sequential()\n",
    "    decoder.add(L.InputLayer((code_size,)))\n",
    "\n",
    "    decoder.add(L.Dense(code_size*2, activation='tanh'))\n",
    "    decoder.add(L.Dense(code_size*4, activation='tanh'))\n",
    "    decoder.add(L.Dense(code_size*8))\n",
    "    decoder.add(L.Dense(np.prod(img_shape), activation='relu'))\n",
    "    decoder.add(L.Reshape(img_shape))\n",
    "\n",
    "    return encoder,decoder"
   ]
  },
  {
   "cell_type": "code",
   "execution_count": 4,
   "metadata": {},
   "outputs": [],
   "source": [
    "encoder,decoder = build_deep_autoencoder(img_shape,code_size=32)\n",
    "\n",
    "inp = L.Input(img_shape)\n",
    "code = encoder(inp)\n",
    "reconstruction = decoder(code)\n",
    "\n",
    "autoencoder = keras.models.Model(inp,reconstruction)\n",
    "autoencoder.compile('adamax','mse')\n",
    "\n"
   ]
  },
  {
   "cell_type": "code",
   "execution_count": 6,
   "metadata": {},
   "outputs": [],
   "source": [
    "delta_validation = validation_images_noisy - validation_images_clean"
   ]
  },
  {
   "cell_type": "code",
   "execution_count": 20,
   "metadata": {},
   "outputs": [
    {
     "data": {
      "text/plain": [
       "<matplotlib.image.AxesImage at 0x7faa5cbe6cc0>"
      ]
     },
     "execution_count": 20,
     "metadata": {},
     "output_type": "execute_result"
    },
    {
     "data": {
      "image/png": "[encoded data removed]",
      "text/plain": [
       "<matplotlib.figure.Figure at 0x7faa5f782390>"
      ]
     },
     "metadata": {},
     "output_type": "display_data"
    }
   ],
   "source": [
    "plt.imshow(validation_images_clean[0][0] + delta_validation[0][0])"
   ]
  },
  {
   "cell_type": "code",
   "execution_count": 37,
   "metadata": {},
   "outputs": [
    {
     "data": {
      "text/plain": [
       "0.20203866"
      ]
     },
     "execution_count": 37,
     "metadata": {},
     "output_type": "execute_result"
    }
   ],
   "source": [
    "noise_data = delta_validation[0:2][0]\n",
    "noise_data_flattened = noise_data.flatten()\n",
    "noise_data_flattened.shape\n",
    "\n",
    "np.mean(noise_data_flattened)\n",
    "np.std(noise_data_flattened)"
   ]
  },
  {
   "cell_type": "code",
   "execution_count": 22,
   "metadata": {},
   "outputs": [
    {
     "data": {
      "text/plain": [
       "<matplotlib.image.AxesImage at 0x7faa5cb1ee10>"
      ]
     },
     "execution_count": 22,
     "metadata": {},
     "output_type": "execute_result"
    },
    {
     "data": {
      "image/png": "[encoded data removed]",
      "text/plain": [
       "<matplotlib.figure.Figure at 0x7faa5cb5ee48>"
      ]
     },
     "metadata": {},
     "output_type": "display_data"
    }
   ],
   "source": [
    "plt.imshow(validation_images_noisy[0][0])"
   ]
  },
  {
   "cell_type": "code",
   "execution_count": 39,
   "metadata": {},
   "outputs": [],
   "source": [
    "\n",
    "\n",
    "def apply_gaussian_noise(X,sigma=0.20):\n",
    "    \"\"\"\n",
    "    adds noise from normal distribution with standard deviation sigma\n",
    "    :param X: image tensor of shape [batch,height,width,3]\n",
    "    \"\"\"\n",
    "    \n",
    "    noise = np.random.normal(loc=0.0, scale=sigma, size=X.shape)\n",
    "        \n",
    "    return X + noise\n",
    "\n",
    "training_images_noisy = apply_gaussian_noise(training_images_clean)"
   ]
  },
  {
   "cell_type": "code",
   "execution_count": 41,
   "metadata": {},
   "outputs": [
    {
     "name": "stdout",
     "output_type": "stream",
     "text": [
      "Train on 20000 samples, validate on 2000 samples\n",
      "Epoch 1/10\n",
      "20000/20000 [==============================] - 11s 556us/step - loss: 0.0150 - val_loss: 0.0149\n",
      "Epoch 2/10\n",
      "20000/20000 [==============================] - 10s 496us/step - loss: 0.0140 - val_loss: 0.0143\n",
      "Epoch 3/10\n",
      "20000/20000 [==============================] - 10s 493us/step - loss: 0.0133 - val_loss: 0.0141\n",
      "Epoch 4/10\n",
      "20000/20000 [==============================] - 11s 545us/step - loss: 0.0128 - val_loss: 0.0137\n",
      "Epoch 5/10\n",
      "20000/20000 [==============================] - 9s 461us/step - loss: 0.0124 - val_loss: 0.0135\n",
      "Epoch 6/10\n",
      "20000/20000 [==============================] - 9s 461us/step - loss: 0.0121 - val_loss: 0.0133\n",
      "Epoch 7/10\n",
      "20000/20000 [==============================] - 10s 501us/step - loss: 0.0118 - val_loss: 0.0132\n",
      "Epoch 8/10\n",
      "20000/20000 [==============================] - 11s 568us/step - loss: 0.0116 - val_loss: 0.0130\n",
      "Epoch 9/10\n",
      "20000/20000 [==============================] - 12s 592us/step - loss: 0.0114 - val_loss: 0.0130\n",
      "Epoch 10/10\n",
      "20000/20000 [==============================] - 11s 562us/step - loss: 0.0111 - val_loss: 0.0127\n"
     ]
    },
    {
     "data": {
      "text/plain": [
       "<keras.callbacks.History at 0x7faa5cab6ba8>"
      ]
     },
     "execution_count": 41,
     "metadata": {},
     "output_type": "execute_result"
    }
   ],
   "source": [
    "autoencoder.fit(x=training_images_noisy,y=training_images_clean,epochs=10,\n",
    "                validation_data=[validation_images_noisy, validation_images_clean])"
   ]
  },
  {
   "cell_type": "code",
   "execution_count": 42,
   "metadata": {},
   "outputs": [],
   "source": [
    "encoded_imgs = encoder.predict(test_images_noisy)\n",
    "decoded_imgs = decoder.predict(encoded_imgs)"
   ]
  },
  {
   "cell_type": "code",
   "execution_count": 47,
   "metadata": {},
   "outputs": [
    {
     "data": {
      "text/plain": [
       "(2000, 1, 28, 28)"
      ]
     },
     "execution_count": 47,
     "metadata": {},
     "output_type": "execute_result"
    },
    {
     "data": {
      "image/png": "[encoded data removed]",
      "text/plain": [
       "<matplotlib.figure.Figure at 0x7faa5ca84a20>"
      ]
     },
     "metadata": {},
     "output_type": "display_data"
    }
   ],
   "source": [
    "plt.imshow(decoded_imgs[3][0])\n",
    "\n",
    "decoded_imgs.shape"
   ]
  },
  {
   "cell_type": "markdown",
   "metadata": {},
   "source": []
  },
  {
   "cell_type": "code",
   "execution_count": null,
   "metadata": {},
   "outputs": [],
   "source": [
    "\n"
   ]
  },
  {
   "cell_type": "markdown",
   "metadata": {},
   "source": []
  },
  {
   "cell_type": "code",
   "execution_count": 48,
   "metadata": {},
   "outputs": [],
   "source": [
    "test_images_clean = decoded_imgs \n",
    "\n",
    "assert test_images_clean.ndim == 4\n",
    "assert test_images_clean.shape[0] == 2000\n",
    "assert test_images_clean.shape[1] == 1\n",
    "assert test_images_clean.shape[2] == 28\n",
    "assert test_images_clean.shape[3] == 28\n",
    "\n",
    "# AND SAVE EXACTLY AS SHOWN BELOW\n",
    "np.save('test_images_clean.npy', test_images_clean)"
   ]
  },
  {
   "cell_type": "code",
   "execution_count": 50,
   "metadata": {},
   "outputs": [
    {
     "data": {
      "text/plain": [
       "28"
      ]
     },
     "execution_count": 50,
     "metadata": {},
     "output_type": "execute_result"
    }
   ],
   "source": [
    "test_images_clean.shape[2]\n"
   ]
  },
  {
   "cell_type": "code",
   "execution_count": null,
   "metadata": {},
   "outputs": [],
   "source": []
  },
  {
   "cell_type": "code",
   "execution_count": null,
   "metadata": {},
   "outputs": [],
   "source": []
  }
 ],
 "metadata": {
  "kernelspec": {
   "display_name": "Python 3",
   "language": "python",
   "name": "python3"
  },
  "language_info": {
   "codemirror_mode": {
    "name": "ipython",
    "version": 3
   },
   "file_extension": ".py",
   "mimetype": "text/x-python",
   "name": "python",
   "nbconvert_exporter": "python",
   "pygments_lexer": "ipython3",
   "version": "3.6.4"
  }
 },
 "nbformat": 4,
 "nbformat_minor": 2
}
